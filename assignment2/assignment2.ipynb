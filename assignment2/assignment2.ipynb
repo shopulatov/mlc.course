{
 "cells": [
  {
   "cell_type": "markdown",
   "metadata": {
    "tags": []
   },
   "source": [
    "# Project Statement\n",
    "\n",
    "Assalamu alaikum. Welcome to my notebook. \n",
    "\n",
    "As part of mlc.course's second assignment, we were told to create Linear Regression model for predicting GDP of countries based on their statsitics such as crime rate, population, poverty and etc. Great way of insulting Kaggle Contributor. I am speechless.\n",
    "\n",
    "Part of the assignment, we have to come up with dataset and then create a model. So I will use following datasets from first assignment and try to come up with good model. \n",
    "\n",
    "- World Population dataset: https://www.kaggle.com/datasets/iamsouravbanerjee/world-population-dataset\n",
    "- World Happiness 2019 dataset: https://www.kaggle.com/datasets/unsdsn/world-happiness\n",
    "- Countries of the world dataset: https://www.kaggle.com/datasets/fernandol/countries-of-the-world\n",
    "- Alcohol consumption by countries dataset: https://www.kaggle.com/datasets/pralabhpoudel/alcohol-consumption-by-country\n",
    "- Average IQ by countries dataset: https://www.kaggle.com/datasets/weavrk/average-iq-by-country\n",
    "\n",
    "Through this notebook, I am lucky enough to increase model's R2 from 0.69 all the way up to 0.814. In other direction, I trained the model at *AutoTrain* from *huggingface.co* with the same dataset and got 0.91 R2 score. Compared to that, I think it is quite good for Linear Regression. You can check my model at https://huggingface.co/murodbek/autotrain-gdp. "
   ]
  },
  {
   "cell_type": "code",
   "execution_count": 1,
   "metadata": {
    "_cell_guid": "b1076dfc-b9ad-4769-8c92-a6c4dae69d19",
    "_uuid": "8f2839f25d086af736a60e9eeb907d3b93b6e0e5",
    "tags": []
   },
   "outputs": [],
   "source": [
    "import numpy as np\n",
    "import pandas as pd\n",
    "import matplotlib.pyplot as plt\n",
    "import seaborn as sns\n",
    "\n",
    "import warnings\n",
    "warnings.filterwarnings('ignore')"
   ]
  },
  {
   "cell_type": "markdown",
   "metadata": {
    "jp-MarkdownHeadingCollapsed": true,
    "tags": []
   },
   "source": [
    "# Collecting data about countries\n",
    "\n",
    "First things first, I am lazy enough to write code so that it is understandable to everyone (I think though). To give a general view on this part, I will do reading datasets, removing unecessary and repeated features and at the merging then by common column called 'Country'. "
   ]
  },
  {
   "cell_type": "markdown",
   "metadata": {
    "tags": []
   },
   "source": [
    "## World Population dataset"
   ]
  },
  {
   "cell_type": "code",
   "execution_count": 2,
   "metadata": {
    "tags": []
   },
   "outputs": [
    {
     "data": {
      "text/html": [
       "<div>\n",
       "<style scoped>\n",
       "    .dataframe tbody tr th:only-of-type {\n",
       "        vertical-align: middle;\n",
       "    }\n",
       "\n",
       "    .dataframe tbody tr th {\n",
       "        vertical-align: top;\n",
       "    }\n",
       "\n",
       "    .dataframe thead th {\n",
       "        text-align: right;\n",
       "    }\n",
       "</style>\n",
       "<table border=\"1\" class=\"dataframe\">\n",
       "  <thead>\n",
       "    <tr style=\"text-align: right;\">\n",
       "      <th></th>\n",
       "      <th>Country</th>\n",
       "      <th>Continent</th>\n",
       "      <th>2022 Population</th>\n",
       "      <th>2020 Population</th>\n",
       "      <th>2015 Population</th>\n",
       "      <th>2010 Population</th>\n",
       "      <th>Area</th>\n",
       "      <th>Destiny</th>\n",
       "      <th>Growth Rate</th>\n",
       "    </tr>\n",
       "  </thead>\n",
       "  <tbody>\n",
       "    <tr>\n",
       "      <th>0</th>\n",
       "      <td>Afghanistan</td>\n",
       "      <td>Asia</td>\n",
       "      <td>41128771</td>\n",
       "      <td>38972230</td>\n",
       "      <td>33753499</td>\n",
       "      <td>28189672</td>\n",
       "      <td>652230</td>\n",
       "      <td>63.0587</td>\n",
       "      <td>1.0257</td>\n",
       "    </tr>\n",
       "    <tr>\n",
       "      <th>1</th>\n",
       "      <td>Albania</td>\n",
       "      <td>Europe</td>\n",
       "      <td>2842321</td>\n",
       "      <td>2866849</td>\n",
       "      <td>2882481</td>\n",
       "      <td>2913399</td>\n",
       "      <td>28748</td>\n",
       "      <td>98.8702</td>\n",
       "      <td>0.9957</td>\n",
       "    </tr>\n",
       "    <tr>\n",
       "      <th>2</th>\n",
       "      <td>Algeria</td>\n",
       "      <td>Africa</td>\n",
       "      <td>44903225</td>\n",
       "      <td>43451666</td>\n",
       "      <td>39543154</td>\n",
       "      <td>35856344</td>\n",
       "      <td>2381741</td>\n",
       "      <td>18.8531</td>\n",
       "      <td>1.0164</td>\n",
       "    </tr>\n",
       "    <tr>\n",
       "      <th>3</th>\n",
       "      <td>American Samoa</td>\n",
       "      <td>Oceania</td>\n",
       "      <td>44273</td>\n",
       "      <td>46189</td>\n",
       "      <td>51368</td>\n",
       "      <td>54849</td>\n",
       "      <td>199</td>\n",
       "      <td>222.4774</td>\n",
       "      <td>0.9831</td>\n",
       "    </tr>\n",
       "    <tr>\n",
       "      <th>4</th>\n",
       "      <td>Andorra</td>\n",
       "      <td>Europe</td>\n",
       "      <td>79824</td>\n",
       "      <td>77700</td>\n",
       "      <td>71746</td>\n",
       "      <td>71519</td>\n",
       "      <td>468</td>\n",
       "      <td>170.5641</td>\n",
       "      <td>1.0100</td>\n",
       "    </tr>\n",
       "    <tr>\n",
       "      <th>...</th>\n",
       "      <td>...</td>\n",
       "      <td>...</td>\n",
       "      <td>...</td>\n",
       "      <td>...</td>\n",
       "      <td>...</td>\n",
       "      <td>...</td>\n",
       "      <td>...</td>\n",
       "      <td>...</td>\n",
       "      <td>...</td>\n",
       "    </tr>\n",
       "    <tr>\n",
       "      <th>229</th>\n",
       "      <td>Wallis and Futuna</td>\n",
       "      <td>Oceania</td>\n",
       "      <td>11572</td>\n",
       "      <td>11655</td>\n",
       "      <td>12182</td>\n",
       "      <td>13142</td>\n",
       "      <td>142</td>\n",
       "      <td>81.4930</td>\n",
       "      <td>0.9953</td>\n",
       "    </tr>\n",
       "    <tr>\n",
       "      <th>230</th>\n",
       "      <td>Western Sahara</td>\n",
       "      <td>Africa</td>\n",
       "      <td>575986</td>\n",
       "      <td>556048</td>\n",
       "      <td>491824</td>\n",
       "      <td>413296</td>\n",
       "      <td>266000</td>\n",
       "      <td>2.1654</td>\n",
       "      <td>1.0184</td>\n",
       "    </tr>\n",
       "    <tr>\n",
       "      <th>231</th>\n",
       "      <td>Yemen</td>\n",
       "      <td>Asia</td>\n",
       "      <td>33696614</td>\n",
       "      <td>32284046</td>\n",
       "      <td>28516545</td>\n",
       "      <td>24743946</td>\n",
       "      <td>527968</td>\n",
       "      <td>63.8232</td>\n",
       "      <td>1.0217</td>\n",
       "    </tr>\n",
       "    <tr>\n",
       "      <th>232</th>\n",
       "      <td>Zambia</td>\n",
       "      <td>Africa</td>\n",
       "      <td>20017675</td>\n",
       "      <td>18927715</td>\n",
       "      <td>16248230</td>\n",
       "      <td>13792086</td>\n",
       "      <td>752612</td>\n",
       "      <td>26.5976</td>\n",
       "      <td>1.0280</td>\n",
       "    </tr>\n",
       "    <tr>\n",
       "      <th>233</th>\n",
       "      <td>Zimbabwe</td>\n",
       "      <td>Africa</td>\n",
       "      <td>16320537</td>\n",
       "      <td>15669666</td>\n",
       "      <td>14154937</td>\n",
       "      <td>12839771</td>\n",
       "      <td>390757</td>\n",
       "      <td>41.7665</td>\n",
       "      <td>1.0204</td>\n",
       "    </tr>\n",
       "  </tbody>\n",
       "</table>\n",
       "<p>234 rows × 9 columns</p>\n",
       "</div>"
      ],
      "text/plain": [
       "               Country Continent  2022 Population  2020 Population  \\\n",
       "0          Afghanistan      Asia         41128771         38972230   \n",
       "1              Albania    Europe          2842321          2866849   \n",
       "2              Algeria    Africa         44903225         43451666   \n",
       "3       American Samoa   Oceania            44273            46189   \n",
       "4              Andorra    Europe            79824            77700   \n",
       "..                 ...       ...              ...              ...   \n",
       "229  Wallis and Futuna   Oceania            11572            11655   \n",
       "230     Western Sahara    Africa           575986           556048   \n",
       "231              Yemen      Asia         33696614         32284046   \n",
       "232             Zambia    Africa         20017675         18927715   \n",
       "233           Zimbabwe    Africa         16320537         15669666   \n",
       "\n",
       "     2015 Population  2010 Population     Area   Destiny  Growth Rate  \n",
       "0           33753499         28189672   652230   63.0587       1.0257  \n",
       "1            2882481          2913399    28748   98.8702       0.9957  \n",
       "2           39543154         35856344  2381741   18.8531       1.0164  \n",
       "3              51368            54849      199  222.4774       0.9831  \n",
       "4              71746            71519      468  170.5641       1.0100  \n",
       "..               ...              ...      ...       ...          ...  \n",
       "229            12182            13142      142   81.4930       0.9953  \n",
       "230           491824           413296   266000    2.1654       1.0184  \n",
       "231         28516545         24743946   527968   63.8232       1.0217  \n",
       "232         16248230         13792086   752612   26.5976       1.0280  \n",
       "233         14154937         12839771   390757   41.7665       1.0204  \n",
       "\n",
       "[234 rows x 9 columns]"
      ]
     },
     "execution_count": 2,
     "metadata": {},
     "output_type": "execute_result"
    }
   ],
   "source": [
    "world=pd.read_csv('world_population.csv')\n",
    "world.drop(['Rank', \"CCA3\", 'Capital', 'World Population Percentage', '1970 Population',\n",
    "           '1980 Population', '1990 Population', '2000 Population'], axis=1, inplace=True)\n",
    "world.rename(columns={'Country/Territory': 'Country', 'Density (per km²)':'Destiny',\n",
    "                      'Area (km²)':\"Area\"}, inplace=True)\n",
    "\n",
    "world"
   ]
  },
  {
   "cell_type": "code",
   "execution_count": 3,
   "metadata": {
    "tags": []
   },
   "outputs": [
    {
     "data": {
      "text/plain": [
       "0"
      ]
     },
     "execution_count": 3,
     "metadata": {},
     "output_type": "execute_result"
    }
   ],
   "source": [
    "world.isna().sum().sum()"
   ]
  },
  {
   "cell_type": "markdown",
   "metadata": {},
   "source": [
    "## World happiness dataset"
   ]
  },
  {
   "cell_type": "code",
   "execution_count": 4,
   "metadata": {
    "tags": []
   },
   "outputs": [
    {
     "data": {
      "text/html": [
       "<div>\n",
       "<style scoped>\n",
       "    .dataframe tbody tr th:only-of-type {\n",
       "        vertical-align: middle;\n",
       "    }\n",
       "\n",
       "    .dataframe tbody tr th {\n",
       "        vertical-align: top;\n",
       "    }\n",
       "\n",
       "    .dataframe thead th {\n",
       "        text-align: right;\n",
       "    }\n",
       "</style>\n",
       "<table border=\"1\" class=\"dataframe\">\n",
       "  <thead>\n",
       "    <tr style=\"text-align: right;\">\n",
       "      <th></th>\n",
       "      <th>Country</th>\n",
       "      <th>happiness</th>\n",
       "      <th>Social support</th>\n",
       "      <th>Healthy life expectancy</th>\n",
       "      <th>Freedom to make life choices</th>\n",
       "      <th>Generosity</th>\n",
       "      <th>Perceptions of corruption</th>\n",
       "    </tr>\n",
       "  </thead>\n",
       "  <tbody>\n",
       "    <tr>\n",
       "      <th>0</th>\n",
       "      <td>Afghanistan</td>\n",
       "      <td>3.203</td>\n",
       "      <td>0.517</td>\n",
       "      <td>0.361</td>\n",
       "      <td>0.000</td>\n",
       "      <td>0.158</td>\n",
       "      <td>0.025</td>\n",
       "    </tr>\n",
       "    <tr>\n",
       "      <th>1</th>\n",
       "      <td>Albania</td>\n",
       "      <td>4.719</td>\n",
       "      <td>0.848</td>\n",
       "      <td>0.874</td>\n",
       "      <td>0.383</td>\n",
       "      <td>0.178</td>\n",
       "      <td>0.027</td>\n",
       "    </tr>\n",
       "    <tr>\n",
       "      <th>2</th>\n",
       "      <td>Algeria</td>\n",
       "      <td>5.211</td>\n",
       "      <td>1.160</td>\n",
       "      <td>0.785</td>\n",
       "      <td>0.086</td>\n",
       "      <td>0.073</td>\n",
       "      <td>0.114</td>\n",
       "    </tr>\n",
       "    <tr>\n",
       "      <th>3</th>\n",
       "      <td>Argentina</td>\n",
       "      <td>6.086</td>\n",
       "      <td>1.432</td>\n",
       "      <td>0.881</td>\n",
       "      <td>0.471</td>\n",
       "      <td>0.066</td>\n",
       "      <td>0.050</td>\n",
       "    </tr>\n",
       "    <tr>\n",
       "      <th>4</th>\n",
       "      <td>Armenia</td>\n",
       "      <td>4.559</td>\n",
       "      <td>1.055</td>\n",
       "      <td>0.815</td>\n",
       "      <td>0.283</td>\n",
       "      <td>0.095</td>\n",
       "      <td>0.064</td>\n",
       "    </tr>\n",
       "    <tr>\n",
       "      <th>...</th>\n",
       "      <td>...</td>\n",
       "      <td>...</td>\n",
       "      <td>...</td>\n",
       "      <td>...</td>\n",
       "      <td>...</td>\n",
       "      <td>...</td>\n",
       "      <td>...</td>\n",
       "    </tr>\n",
       "    <tr>\n",
       "      <th>151</th>\n",
       "      <td>Venezuela</td>\n",
       "      <td>4.707</td>\n",
       "      <td>1.427</td>\n",
       "      <td>0.805</td>\n",
       "      <td>0.154</td>\n",
       "      <td>0.064</td>\n",
       "      <td>0.047</td>\n",
       "    </tr>\n",
       "    <tr>\n",
       "      <th>152</th>\n",
       "      <td>Vietnam</td>\n",
       "      <td>5.175</td>\n",
       "      <td>1.346</td>\n",
       "      <td>0.851</td>\n",
       "      <td>0.543</td>\n",
       "      <td>0.147</td>\n",
       "      <td>0.073</td>\n",
       "    </tr>\n",
       "    <tr>\n",
       "      <th>153</th>\n",
       "      <td>Yemen</td>\n",
       "      <td>3.380</td>\n",
       "      <td>1.163</td>\n",
       "      <td>0.463</td>\n",
       "      <td>0.143</td>\n",
       "      <td>0.108</td>\n",
       "      <td>0.077</td>\n",
       "    </tr>\n",
       "    <tr>\n",
       "      <th>154</th>\n",
       "      <td>Zambia</td>\n",
       "      <td>4.107</td>\n",
       "      <td>1.058</td>\n",
       "      <td>0.426</td>\n",
       "      <td>0.431</td>\n",
       "      <td>0.247</td>\n",
       "      <td>0.087</td>\n",
       "    </tr>\n",
       "    <tr>\n",
       "      <th>155</th>\n",
       "      <td>Zimbabwe</td>\n",
       "      <td>3.663</td>\n",
       "      <td>1.114</td>\n",
       "      <td>0.433</td>\n",
       "      <td>0.361</td>\n",
       "      <td>0.151</td>\n",
       "      <td>0.089</td>\n",
       "    </tr>\n",
       "  </tbody>\n",
       "</table>\n",
       "<p>156 rows × 7 columns</p>\n",
       "</div>"
      ],
      "text/plain": [
       "         Country  happiness  Social support  Healthy life expectancy  \\\n",
       "0    Afghanistan      3.203           0.517                    0.361   \n",
       "1        Albania      4.719           0.848                    0.874   \n",
       "2        Algeria      5.211           1.160                    0.785   \n",
       "3      Argentina      6.086           1.432                    0.881   \n",
       "4        Armenia      4.559           1.055                    0.815   \n",
       "..           ...        ...             ...                      ...   \n",
       "151    Venezuela      4.707           1.427                    0.805   \n",
       "152      Vietnam      5.175           1.346                    0.851   \n",
       "153        Yemen      3.380           1.163                    0.463   \n",
       "154       Zambia      4.107           1.058                    0.426   \n",
       "155     Zimbabwe      3.663           1.114                    0.433   \n",
       "\n",
       "     Freedom to make life choices  Generosity  Perceptions of corruption  \n",
       "0                           0.000       0.158                      0.025  \n",
       "1                           0.383       0.178                      0.027  \n",
       "2                           0.086       0.073                      0.114  \n",
       "3                           0.471       0.066                      0.050  \n",
       "4                           0.283       0.095                      0.064  \n",
       "..                            ...         ...                        ...  \n",
       "151                         0.154       0.064                      0.047  \n",
       "152                         0.543       0.147                      0.073  \n",
       "153                         0.143       0.108                      0.077  \n",
       "154                         0.431       0.247                      0.087  \n",
       "155                         0.361       0.151                      0.089  \n",
       "\n",
       "[156 rows x 7 columns]"
      ]
     },
     "execution_count": 4,
     "metadata": {},
     "output_type": "execute_result"
    }
   ],
   "source": [
    "happiness=pd.read_csv('world-happiness-2019.csv')\n",
    "happiness.rename(columns={'Country or region': 'Country', 'Score':'happiness'},inplace=True)\n",
    "happiness.drop(['Overall rank', 'GDP per capita'], axis=1, inplace=True)\n",
    "\n",
    "happiness.sort_values(by=['Country'], inplace=True)\n",
    "happiness.reset_index(drop=True, inplace=True)\n",
    "\n",
    "happiness"
   ]
  },
  {
   "cell_type": "code",
   "execution_count": 5,
   "metadata": {
    "tags": []
   },
   "outputs": [
    {
     "data": {
      "text/plain": [
       "0"
      ]
     },
     "execution_count": 5,
     "metadata": {},
     "output_type": "execute_result"
    }
   ],
   "source": [
    "happiness.isna().sum().sum()"
   ]
  },
  {
   "cell_type": "markdown",
   "metadata": {},
   "source": [
    "## Countries of the world dataset"
   ]
  },
  {
   "cell_type": "markdown",
   "metadata": {},
   "source": [
    "When I am merging other datasets with this dataset, I am having mindblowing errors. With little bit of digging, I found that for each of country name, they included white-space at the end. I solved th problem using python's right strip."
   ]
  },
  {
   "cell_type": "code",
   "execution_count": 6,
   "metadata": {
    "tags": []
   },
   "outputs": [
    {
     "data": {
      "text/html": [
       "<div>\n",
       "<style scoped>\n",
       "    .dataframe tbody tr th:only-of-type {\n",
       "        vertical-align: middle;\n",
       "    }\n",
       "\n",
       "    .dataframe tbody tr th {\n",
       "        vertical-align: top;\n",
       "    }\n",
       "\n",
       "    .dataframe thead th {\n",
       "        text-align: right;\n",
       "    }\n",
       "</style>\n",
       "<table border=\"1\" class=\"dataframe\">\n",
       "  <thead>\n",
       "    <tr style=\"text-align: right;\">\n",
       "      <th></th>\n",
       "      <th>Country</th>\n",
       "      <th>Coastline (coast/area ratio)</th>\n",
       "      <th>Net migration</th>\n",
       "      <th>Infant mortality (per 1000 births)</th>\n",
       "      <th>GDP</th>\n",
       "      <th>Literacy (%)</th>\n",
       "      <th>Phones (per 1000)</th>\n",
       "      <th>Arable (%)</th>\n",
       "      <th>Crops (%)</th>\n",
       "      <th>Other (%)</th>\n",
       "      <th>Climate</th>\n",
       "      <th>Birthrate</th>\n",
       "      <th>Deathrate</th>\n",
       "      <th>Agriculture</th>\n",
       "      <th>Industry</th>\n",
       "      <th>Service</th>\n",
       "    </tr>\n",
       "  </thead>\n",
       "  <tbody>\n",
       "    <tr>\n",
       "      <th>0</th>\n",
       "      <td>Afghanistan</td>\n",
       "      <td>0,00</td>\n",
       "      <td>23,06</td>\n",
       "      <td>163,07</td>\n",
       "      <td>700.0</td>\n",
       "      <td>36,0</td>\n",
       "      <td>3,2</td>\n",
       "      <td>12,13</td>\n",
       "      <td>0,22</td>\n",
       "      <td>87,65</td>\n",
       "      <td>1</td>\n",
       "      <td>46,6</td>\n",
       "      <td>20,34</td>\n",
       "      <td>0,38</td>\n",
       "      <td>0,24</td>\n",
       "      <td>0,38</td>\n",
       "    </tr>\n",
       "    <tr>\n",
       "      <th>1</th>\n",
       "      <td>Albania</td>\n",
       "      <td>1,26</td>\n",
       "      <td>-4,93</td>\n",
       "      <td>21,52</td>\n",
       "      <td>4500.0</td>\n",
       "      <td>86,5</td>\n",
       "      <td>71,2</td>\n",
       "      <td>21,09</td>\n",
       "      <td>4,42</td>\n",
       "      <td>74,49</td>\n",
       "      <td>3</td>\n",
       "      <td>15,11</td>\n",
       "      <td>5,22</td>\n",
       "      <td>0,232</td>\n",
       "      <td>0,188</td>\n",
       "      <td>0,579</td>\n",
       "    </tr>\n",
       "    <tr>\n",
       "      <th>2</th>\n",
       "      <td>Algeria</td>\n",
       "      <td>0,04</td>\n",
       "      <td>-0,39</td>\n",
       "      <td>31</td>\n",
       "      <td>6000.0</td>\n",
       "      <td>70,0</td>\n",
       "      <td>78,1</td>\n",
       "      <td>3,22</td>\n",
       "      <td>0,25</td>\n",
       "      <td>96,53</td>\n",
       "      <td>1</td>\n",
       "      <td>17,14</td>\n",
       "      <td>4,61</td>\n",
       "      <td>0,101</td>\n",
       "      <td>0,6</td>\n",
       "      <td>0,298</td>\n",
       "    </tr>\n",
       "    <tr>\n",
       "      <th>3</th>\n",
       "      <td>American Samoa</td>\n",
       "      <td>58,29</td>\n",
       "      <td>-20,71</td>\n",
       "      <td>9,27</td>\n",
       "      <td>8000.0</td>\n",
       "      <td>97,0</td>\n",
       "      <td>259,5</td>\n",
       "      <td>10</td>\n",
       "      <td>15</td>\n",
       "      <td>75</td>\n",
       "      <td>2</td>\n",
       "      <td>22,46</td>\n",
       "      <td>3,27</td>\n",
       "      <td>NaN</td>\n",
       "      <td>NaN</td>\n",
       "      <td>NaN</td>\n",
       "    </tr>\n",
       "    <tr>\n",
       "      <th>4</th>\n",
       "      <td>Andorra</td>\n",
       "      <td>0,00</td>\n",
       "      <td>6,6</td>\n",
       "      <td>4,05</td>\n",
       "      <td>19000.0</td>\n",
       "      <td>100,0</td>\n",
       "      <td>497,2</td>\n",
       "      <td>2,22</td>\n",
       "      <td>0</td>\n",
       "      <td>97,78</td>\n",
       "      <td>3</td>\n",
       "      <td>8,71</td>\n",
       "      <td>6,25</td>\n",
       "      <td>NaN</td>\n",
       "      <td>NaN</td>\n",
       "      <td>NaN</td>\n",
       "    </tr>\n",
       "    <tr>\n",
       "      <th>...</th>\n",
       "      <td>...</td>\n",
       "      <td>...</td>\n",
       "      <td>...</td>\n",
       "      <td>...</td>\n",
       "      <td>...</td>\n",
       "      <td>...</td>\n",
       "      <td>...</td>\n",
       "      <td>...</td>\n",
       "      <td>...</td>\n",
       "      <td>...</td>\n",
       "      <td>...</td>\n",
       "      <td>...</td>\n",
       "      <td>...</td>\n",
       "      <td>...</td>\n",
       "      <td>...</td>\n",
       "      <td>...</td>\n",
       "    </tr>\n",
       "    <tr>\n",
       "      <th>222</th>\n",
       "      <td>West Bank</td>\n",
       "      <td>0,00</td>\n",
       "      <td>2,98</td>\n",
       "      <td>19,62</td>\n",
       "      <td>800.0</td>\n",
       "      <td>NaN</td>\n",
       "      <td>145,2</td>\n",
       "      <td>16,9</td>\n",
       "      <td>18,97</td>\n",
       "      <td>64,13</td>\n",
       "      <td>3</td>\n",
       "      <td>31,67</td>\n",
       "      <td>3,92</td>\n",
       "      <td>0,09</td>\n",
       "      <td>0,28</td>\n",
       "      <td>0,63</td>\n",
       "    </tr>\n",
       "    <tr>\n",
       "      <th>223</th>\n",
       "      <td>Western Sahara</td>\n",
       "      <td>0,42</td>\n",
       "      <td>NaN</td>\n",
       "      <td>NaN</td>\n",
       "      <td>NaN</td>\n",
       "      <td>NaN</td>\n",
       "      <td>NaN</td>\n",
       "      <td>0,02</td>\n",
       "      <td>0</td>\n",
       "      <td>99,98</td>\n",
       "      <td>1</td>\n",
       "      <td>NaN</td>\n",
       "      <td>NaN</td>\n",
       "      <td>NaN</td>\n",
       "      <td>NaN</td>\n",
       "      <td>0,4</td>\n",
       "    </tr>\n",
       "    <tr>\n",
       "      <th>224</th>\n",
       "      <td>Yemen</td>\n",
       "      <td>0,36</td>\n",
       "      <td>0</td>\n",
       "      <td>61,5</td>\n",
       "      <td>800.0</td>\n",
       "      <td>50,2</td>\n",
       "      <td>37,2</td>\n",
       "      <td>2,78</td>\n",
       "      <td>0,24</td>\n",
       "      <td>96,98</td>\n",
       "      <td>1</td>\n",
       "      <td>42,89</td>\n",
       "      <td>8,3</td>\n",
       "      <td>0,135</td>\n",
       "      <td>0,472</td>\n",
       "      <td>0,393</td>\n",
       "    </tr>\n",
       "    <tr>\n",
       "      <th>225</th>\n",
       "      <td>Zambia</td>\n",
       "      <td>0,00</td>\n",
       "      <td>0</td>\n",
       "      <td>88,29</td>\n",
       "      <td>800.0</td>\n",
       "      <td>80,6</td>\n",
       "      <td>8,2</td>\n",
       "      <td>7,08</td>\n",
       "      <td>0,03</td>\n",
       "      <td>92,9</td>\n",
       "      <td>2</td>\n",
       "      <td>41</td>\n",
       "      <td>19,93</td>\n",
       "      <td>0,22</td>\n",
       "      <td>0,29</td>\n",
       "      <td>0,489</td>\n",
       "    </tr>\n",
       "    <tr>\n",
       "      <th>226</th>\n",
       "      <td>Zimbabwe</td>\n",
       "      <td>0,00</td>\n",
       "      <td>0</td>\n",
       "      <td>67,69</td>\n",
       "      <td>1900.0</td>\n",
       "      <td>90,7</td>\n",
       "      <td>26,8</td>\n",
       "      <td>8,32</td>\n",
       "      <td>0,34</td>\n",
       "      <td>91,34</td>\n",
       "      <td>2</td>\n",
       "      <td>28,01</td>\n",
       "      <td>21,84</td>\n",
       "      <td>0,179</td>\n",
       "      <td>0,243</td>\n",
       "      <td>0,579</td>\n",
       "    </tr>\n",
       "  </tbody>\n",
       "</table>\n",
       "<p>227 rows × 16 columns</p>\n",
       "</div>"
      ],
      "text/plain": [
       "            Country Coastline (coast/area ratio) Net migration  \\\n",
       "0       Afghanistan                         0,00         23,06   \n",
       "1           Albania                         1,26         -4,93   \n",
       "2           Algeria                         0,04         -0,39   \n",
       "3    American Samoa                        58,29        -20,71   \n",
       "4           Andorra                         0,00           6,6   \n",
       "..              ...                          ...           ...   \n",
       "222       West Bank                         0,00          2,98   \n",
       "223  Western Sahara                         0,42           NaN   \n",
       "224           Yemen                         0,36             0   \n",
       "225          Zambia                         0,00             0   \n",
       "226        Zimbabwe                         0,00             0   \n",
       "\n",
       "    Infant mortality (per 1000 births)      GDP Literacy (%)  \\\n",
       "0                               163,07    700.0         36,0   \n",
       "1                                21,52   4500.0         86,5   \n",
       "2                                   31   6000.0         70,0   \n",
       "3                                 9,27   8000.0         97,0   \n",
       "4                                 4,05  19000.0        100,0   \n",
       "..                                 ...      ...          ...   \n",
       "222                              19,62    800.0          NaN   \n",
       "223                                NaN      NaN          NaN   \n",
       "224                               61,5    800.0         50,2   \n",
       "225                              88,29    800.0         80,6   \n",
       "226                              67,69   1900.0         90,7   \n",
       "\n",
       "    Phones (per 1000) Arable (%) Crops (%) Other (%) Climate Birthrate  \\\n",
       "0                 3,2      12,13      0,22     87,65       1      46,6   \n",
       "1                71,2      21,09      4,42     74,49       3     15,11   \n",
       "2                78,1       3,22      0,25     96,53       1     17,14   \n",
       "3               259,5         10        15        75       2     22,46   \n",
       "4               497,2       2,22         0     97,78       3      8,71   \n",
       "..                ...        ...       ...       ...     ...       ...   \n",
       "222             145,2       16,9     18,97     64,13       3     31,67   \n",
       "223               NaN       0,02         0     99,98       1       NaN   \n",
       "224              37,2       2,78      0,24     96,98       1     42,89   \n",
       "225               8,2       7,08      0,03      92,9       2        41   \n",
       "226              26,8       8,32      0,34     91,34       2     28,01   \n",
       "\n",
       "    Deathrate Agriculture Industry Service  \n",
       "0       20,34        0,38     0,24    0,38  \n",
       "1        5,22       0,232    0,188   0,579  \n",
       "2        4,61       0,101      0,6   0,298  \n",
       "3        3,27         NaN      NaN     NaN  \n",
       "4        6,25         NaN      NaN     NaN  \n",
       "..        ...         ...      ...     ...  \n",
       "222      3,92        0,09     0,28    0,63  \n",
       "223       NaN         NaN      NaN     0,4  \n",
       "224       8,3       0,135    0,472   0,393  \n",
       "225     19,93        0,22     0,29   0,489  \n",
       "226     21,84       0,179    0,243   0,579  \n",
       "\n",
       "[227 rows x 16 columns]"
      ]
     },
     "execution_count": 6,
     "metadata": {},
     "output_type": "execute_result"
    }
   ],
   "source": [
    "countries=pd.read_csv('countries-of-the-world.csv')\n",
    "countries.drop(['Region', 'Population', 'Area (sq. mi.)','Pop. Density (per sq. mi.)'],\n",
    "             axis=1, inplace=True)\n",
    "countries.rename(columns={'GDP ($ per capita)':'GDP'}, inplace=True)\n",
    "\n",
    "new_list=[]\n",
    "for country in countries.Country.tolist():\n",
    "    new_list.append(country.rstrip())\n",
    "countries.Country=new_list\n",
    "\n",
    "countries"
   ]
  },
  {
   "cell_type": "code",
   "execution_count": 7,
   "metadata": {
    "tags": []
   },
   "outputs": [
    {
     "data": {
      "text/plain": [
       "110"
      ]
     },
     "execution_count": 7,
     "metadata": {},
     "output_type": "execute_result"
    }
   ],
   "source": [
    "countries.isna().sum().sum()"
   ]
  },
  {
   "cell_type": "markdown",
   "metadata": {},
   "source": [
    "## Alcohol Consumption dataset"
   ]
  },
  {
   "cell_type": "code",
   "execution_count": 8,
   "metadata": {},
   "outputs": [
    {
     "data": {
      "text/html": [
       "<div>\n",
       "<style scoped>\n",
       "    .dataframe tbody tr th:only-of-type {\n",
       "        vertical-align: middle;\n",
       "    }\n",
       "\n",
       "    .dataframe tbody tr th {\n",
       "        vertical-align: top;\n",
       "    }\n",
       "\n",
       "    .dataframe thead th {\n",
       "        text-align: right;\n",
       "    }\n",
       "</style>\n",
       "<table border=\"1\" class=\"dataframe\">\n",
       "  <thead>\n",
       "    <tr style=\"text-align: right;\">\n",
       "      <th></th>\n",
       "      <th>Country</th>\n",
       "      <th>total_alcohol_consumtion</th>\n",
       "    </tr>\n",
       "  </thead>\n",
       "  <tbody>\n",
       "    <tr>\n",
       "      <th>0</th>\n",
       "      <td>Afghanistan</td>\n",
       "      <td>0.210000</td>\n",
       "    </tr>\n",
       "    <tr>\n",
       "      <th>1</th>\n",
       "      <td>Africa</td>\n",
       "      <td>NaN</td>\n",
       "    </tr>\n",
       "    <tr>\n",
       "      <th>2</th>\n",
       "      <td>Africa Eastern and Southern</td>\n",
       "      <td>5.170911</td>\n",
       "    </tr>\n",
       "    <tr>\n",
       "      <th>3</th>\n",
       "      <td>Africa Western and Central</td>\n",
       "      <td>6.835266</td>\n",
       "    </tr>\n",
       "    <tr>\n",
       "      <th>4</th>\n",
       "      <td>Albania</td>\n",
       "      <td>7.170000</td>\n",
       "    </tr>\n",
       "    <tr>\n",
       "      <th>...</th>\n",
       "      <td>...</td>\n",
       "      <td>...</td>\n",
       "    </tr>\n",
       "    <tr>\n",
       "      <th>284</th>\n",
       "      <td>Western Sahara</td>\n",
       "      <td>NaN</td>\n",
       "    </tr>\n",
       "    <tr>\n",
       "      <th>285</th>\n",
       "      <td>World</td>\n",
       "      <td>6.181404</td>\n",
       "    </tr>\n",
       "    <tr>\n",
       "      <th>286</th>\n",
       "      <td>Yemen</td>\n",
       "      <td>0.051000</td>\n",
       "    </tr>\n",
       "    <tr>\n",
       "      <th>287</th>\n",
       "      <td>Zambia</td>\n",
       "      <td>6.540000</td>\n",
       "    </tr>\n",
       "    <tr>\n",
       "      <th>288</th>\n",
       "      <td>Zimbabwe</td>\n",
       "      <td>4.670000</td>\n",
       "    </tr>\n",
       "  </tbody>\n",
       "</table>\n",
       "<p>289 rows × 2 columns</p>\n",
       "</div>"
      ],
      "text/plain": [
       "                         Country  total_alcohol_consumtion\n",
       "0                    Afghanistan                  0.210000\n",
       "1                         Africa                       NaN\n",
       "2    Africa Eastern and Southern                  5.170911\n",
       "3     Africa Western and Central                  6.835266\n",
       "4                        Albania                  7.170000\n",
       "..                           ...                       ...\n",
       "284               Western Sahara                       NaN\n",
       "285                        World                  6.181404\n",
       "286                        Yemen                  0.051000\n",
       "287                       Zambia                  6.540000\n",
       "288                     Zimbabwe                  4.670000\n",
       "\n",
       "[289 rows x 2 columns]"
      ]
     },
     "execution_count": 8,
     "metadata": {},
     "output_type": "execute_result"
    }
   ],
   "source": [
    "alcohol=pd.read_csv('alcohol-consumption-vs-gdp-per-capita.csv')\n",
    "alcohol=alcohol.loc[alcohol.Year==2018]\n",
    "\n",
    "alcohol.rename(columns={'Entity': 'Country', \n",
    "            'Total alcohol consumption per capita (liters of pure alcohol, projected estimates, 15+ years of age)':'total_alcohol_consumtion'},\n",
    "             inplace=True)\n",
    "alcohol.drop(['Code', 'Year', 'Population (historical estimates)','GDP per capita, PPP (constant 2017 international $)',\n",
    "              'Continent'], axis=1, inplace=True)\n",
    "\n",
    "alcohol.reset_index(drop=True, inplace=True)\n",
    "\n",
    "alcohol"
   ]
  },
  {
   "cell_type": "code",
   "execution_count": 9,
   "metadata": {},
   "outputs": [
    {
     "data": {
      "text/plain": [
       "Country                      0\n",
       "total_alcohol_consumtion    54\n",
       "dtype: int64"
      ]
     },
     "execution_count": 9,
     "metadata": {},
     "output_type": "execute_result"
    }
   ],
   "source": [
    "alcohol.isna().sum()"
   ]
  },
  {
   "cell_type": "markdown",
   "metadata": {},
   "source": [
    "## Average IQ by Countries dataset"
   ]
  },
  {
   "cell_type": "code",
   "execution_count": 10,
   "metadata": {},
   "outputs": [
    {
     "data": {
      "text/html": [
       "<div>\n",
       "<style scoped>\n",
       "    .dataframe tbody tr th:only-of-type {\n",
       "        vertical-align: middle;\n",
       "    }\n",
       "\n",
       "    .dataframe tbody tr th {\n",
       "        vertical-align: top;\n",
       "    }\n",
       "\n",
       "    .dataframe thead th {\n",
       "        text-align: right;\n",
       "    }\n",
       "</style>\n",
       "<table border=\"1\" class=\"dataframe\">\n",
       "  <thead>\n",
       "    <tr style=\"text-align: right;\">\n",
       "      <th></th>\n",
       "      <th>Country</th>\n",
       "      <th>iq</th>\n",
       "    </tr>\n",
       "  </thead>\n",
       "  <tbody>\n",
       "    <tr>\n",
       "      <th>0</th>\n",
       "      <td>Japan</td>\n",
       "      <td>106.48</td>\n",
       "    </tr>\n",
       "    <tr>\n",
       "      <th>1</th>\n",
       "      <td>Taiwan</td>\n",
       "      <td>106.47</td>\n",
       "    </tr>\n",
       "    <tr>\n",
       "      <th>2</th>\n",
       "      <td>Singapore</td>\n",
       "      <td>105.89</td>\n",
       "    </tr>\n",
       "    <tr>\n",
       "      <th>3</th>\n",
       "      <td>Hong Kong</td>\n",
       "      <td>105.37</td>\n",
       "    </tr>\n",
       "    <tr>\n",
       "      <th>4</th>\n",
       "      <td>China</td>\n",
       "      <td>104.10</td>\n",
       "    </tr>\n",
       "    <tr>\n",
       "      <th>...</th>\n",
       "      <td>...</td>\n",
       "      <td>...</td>\n",
       "    </tr>\n",
       "    <tr>\n",
       "      <th>194</th>\n",
       "      <td>Cape Verde</td>\n",
       "      <td>52.50</td>\n",
       "    </tr>\n",
       "    <tr>\n",
       "      <th>195</th>\n",
       "      <td>Guatemala</td>\n",
       "      <td>47.72</td>\n",
       "    </tr>\n",
       "    <tr>\n",
       "      <th>196</th>\n",
       "      <td>Liberia</td>\n",
       "      <td>45.07</td>\n",
       "    </tr>\n",
       "    <tr>\n",
       "      <th>197</th>\n",
       "      <td>Sierra Leone</td>\n",
       "      <td>45.07</td>\n",
       "    </tr>\n",
       "    <tr>\n",
       "      <th>198</th>\n",
       "      <td>Nepal</td>\n",
       "      <td>42.99</td>\n",
       "    </tr>\n",
       "  </tbody>\n",
       "</table>\n",
       "<p>199 rows × 2 columns</p>\n",
       "</div>"
      ],
      "text/plain": [
       "          Country      iq\n",
       "0           Japan  106.48\n",
       "1          Taiwan  106.47\n",
       "2       Singapore  105.89\n",
       "3       Hong Kong  105.37\n",
       "4           China  104.10\n",
       "..            ...     ...\n",
       "194    Cape Verde   52.50\n",
       "195     Guatemala   47.72\n",
       "196       Liberia   45.07\n",
       "197  Sierra Leone   45.07\n",
       "198         Nepal   42.99\n",
       "\n",
       "[199 rows x 2 columns]"
      ]
     },
     "execution_count": 10,
     "metadata": {},
     "output_type": "execute_result"
    }
   ],
   "source": [
    "iq=pd.read_csv('average-iq-by-countries.csv')\n",
    "\n",
    "iq.rename(columns={'country': 'Country'}, inplace=True)\n",
    "iq.drop(['rank', 'pop2022'], axis=1, inplace=True)\n",
    "\n",
    "iq"
   ]
  },
  {
   "cell_type": "code",
   "execution_count": 11,
   "metadata": {},
   "outputs": [
    {
     "data": {
      "text/plain": [
       "0"
      ]
     },
     "execution_count": 11,
     "metadata": {},
     "output_type": "execute_result"
    }
   ],
   "source": [
    "iq.isna().sum().sum()"
   ]
  },
  {
   "cell_type": "markdown",
   "metadata": {},
   "source": [
    "## Merging"
   ]
  },
  {
   "cell_type": "code",
   "execution_count": 12,
   "metadata": {
    "tags": []
   },
   "outputs": [
    {
     "data": {
      "text/plain": [
       "((234, 9), (156, 7), (227, 16), (289, 2), (199, 2))"
      ]
     },
     "execution_count": 12,
     "metadata": {},
     "output_type": "execute_result"
    }
   ],
   "source": [
    "world.shape, happiness.shape, countries.shape, alcohol.shape, iq.shape"
   ]
  },
  {
   "cell_type": "code",
   "execution_count": 13,
   "metadata": {
    "tags": []
   },
   "outputs": [],
   "source": [
    "df = pd.merge(world, happiness, on='Country', how='left')\n",
    "df = pd.merge(df, countries, on='Country', how='left')\n",
    "df = pd.merge(df, alcohol, on='Country', how='left')\n",
    "df = pd.merge(df, iq, on='Country', how='left')\n",
    "\n",
    "df=df[~df['GDP'].isna()]\n",
    "df.reset_index(drop=True, inplace=True)"
   ]
  },
  {
   "cell_type": "code",
   "execution_count": 14,
   "metadata": {},
   "outputs": [],
   "source": [
    "columns_to_change=['Coastline (coast/area ratio)', 'Net migration', 'Infant mortality (per 1000 births)',\n",
    "                  'Literacy (%)', 'Phones (per 1000)', 'Arable (%)', 'Crops (%)', 'Other (%)', 'Climate',\n",
    "                  'Birthrate', 'Deathrate', 'Agriculture', 'Industry', 'Service']\n",
    "\n",
    "df[columns_to_change] = df[columns_to_change].apply(lambda x: x.str.replace(',','.'))\n",
    "df[columns_to_change] =df[columns_to_change].astype('float64')"
   ]
  },
  {
   "cell_type": "code",
   "execution_count": 15,
   "metadata": {},
   "outputs": [
    {
     "data": {
      "text/plain": [
       "Country                                0\n",
       "Continent                              0\n",
       "2022 Population                        0\n",
       "2020 Population                        0\n",
       "2015 Population                        0\n",
       "2010 Population                        0\n",
       "Area                                   0\n",
       "Destiny                                0\n",
       "Growth Rate                            0\n",
       "happiness                             59\n",
       "Social support                        59\n",
       "Healthy life expectancy               59\n",
       "Freedom to make life choices          59\n",
       "Generosity                            59\n",
       "Perceptions of corruption             59\n",
       "Coastline (coast/area ratio)           0\n",
       "Net migration                          2\n",
       "Infant mortality (per 1000 births)     2\n",
       "GDP                                    0\n",
       "Literacy (%)                          12\n",
       "Phones (per 1000)                      2\n",
       "Arable (%)                             2\n",
       "Crops (%)                              2\n",
       "Other (%)                              2\n",
       "Climate                               20\n",
       "Birthrate                              2\n",
       "Deathrate                              3\n",
       "Agriculture                           10\n",
       "Industry                              11\n",
       "Service                               11\n",
       "total_alcohol_consumtion              32\n",
       "iq                                    24\n",
       "dtype: int64"
      ]
     },
     "execution_count": 15,
     "metadata": {},
     "output_type": "execute_result"
    }
   ],
   "source": [
    "df.isna().sum()"
   ]
  },
  {
   "cell_type": "code",
   "execution_count": 16,
   "metadata": {},
   "outputs": [],
   "source": [
    "df.to_csv('assignment2-dataset.csv', index=False)"
   ]
  },
  {
   "cell_type": "markdown",
   "metadata": {},
   "source": [
    "# Creating Linear Regression Model"
   ]
  },
  {
   "cell_type": "code",
   "execution_count": 17,
   "metadata": {},
   "outputs": [
    {
     "data": {
      "text/plain": [
       "(199, 32)"
      ]
     },
     "execution_count": 17,
     "metadata": {},
     "output_type": "execute_result"
    }
   ],
   "source": [
    "df=pd.read_csv('assignment2-dataset.csv')\n",
    "df.shape"
   ]
  },
  {
   "cell_type": "code",
   "execution_count": 18,
   "metadata": {},
   "outputs": [
    {
     "name": "stdout",
     "output_type": "stream",
     "text": [
      "<class 'pandas.core.frame.DataFrame'>\n",
      "RangeIndex: 199 entries, 0 to 198\n",
      "Data columns (total 32 columns):\n",
      " #   Column                              Non-Null Count  Dtype  \n",
      "---  ------                              --------------  -----  \n",
      " 0   Country                             199 non-null    object \n",
      " 1   Continent                           199 non-null    object \n",
      " 2   2022 Population                     199 non-null    int64  \n",
      " 3   2020 Population                     199 non-null    int64  \n",
      " 4   2015 Population                     199 non-null    int64  \n",
      " 5   2010 Population                     199 non-null    int64  \n",
      " 6   Area                                199 non-null    int64  \n",
      " 7   Destiny                             199 non-null    float64\n",
      " 8   Growth Rate                         199 non-null    float64\n",
      " 9   happiness                           140 non-null    float64\n",
      " 10  Social support                      140 non-null    float64\n",
      " 11  Healthy life expectancy             140 non-null    float64\n",
      " 12  Freedom to make life choices        140 non-null    float64\n",
      " 13  Generosity                          140 non-null    float64\n",
      " 14  Perceptions of corruption           140 non-null    float64\n",
      " 15  Coastline (coast/area ratio)        199 non-null    float64\n",
      " 16  Net migration                       197 non-null    float64\n",
      " 17  Infant mortality (per 1000 births)  197 non-null    float64\n",
      " 18  GDP                                 199 non-null    float64\n",
      " 19  Literacy (%)                        187 non-null    float64\n",
      " 20  Phones (per 1000)                   197 non-null    float64\n",
      " 21  Arable (%)                          197 non-null    float64\n",
      " 22  Crops (%)                           197 non-null    float64\n",
      " 23  Other (%)                           197 non-null    float64\n",
      " 24  Climate                             179 non-null    float64\n",
      " 25  Birthrate                           197 non-null    float64\n",
      " 26  Deathrate                           196 non-null    float64\n",
      " 27  Agriculture                         189 non-null    float64\n",
      " 28  Industry                            188 non-null    float64\n",
      " 29  Service                             188 non-null    float64\n",
      " 30  total_alcohol_consumtion            167 non-null    float64\n",
      " 31  iq                                  175 non-null    float64\n",
      "dtypes: float64(25), int64(5), object(2)\n",
      "memory usage: 49.9+ KB\n"
     ]
    }
   ],
   "source": [
    "df.info()"
   ]
  },
  {
   "cell_type": "code",
   "execution_count": 19,
   "metadata": {},
   "outputs": [],
   "source": [
    "modes=df.mode().iloc[0]\n",
    "df.fillna(modes, inplace=True)"
   ]
  },
  {
   "cell_type": "code",
   "execution_count": 20,
   "metadata": {},
   "outputs": [],
   "source": [
    "df.set_index('Country', inplace=True)\n",
    "df=pd.get_dummies(df)"
   ]
  },
  {
   "cell_type": "markdown",
   "metadata": {},
   "source": [
    "## Baseline\n",
    "\n",
    "As a nature of Linear Regression, I got very different results with different random seed. To overcome that I am training 500 models and getting the average for both single and cross validation cases."
   ]
  },
  {
   "cell_type": "code",
   "execution_count": 21,
   "metadata": {
    "tags": []
   },
   "outputs": [],
   "source": [
    "from sklearn.linear_model import LinearRegression\n",
    "from sklearn.model_selection import train_test_split\n",
    "\n",
    "X = df.drop('GDP', axis=1)\n",
    "y = df['GDP']\n",
    "X_train, X_test, y_train, y_test = train_test_split(\n",
    "    X, y, test_size=0.20, random_state=250\n",
    "    )"
   ]
  },
  {
   "cell_type": "code",
   "execution_count": 22,
   "metadata": {},
   "outputs": [
    {
     "data": {
      "text/plain": [
       "0.7259799491544358"
      ]
     },
     "execution_count": 22,
     "metadata": {},
     "output_type": "execute_result"
    }
   ],
   "source": [
    "lr_model = LinearRegression().fit(X_train, y_train)\n",
    "lr_model.score(X_test, y_test)"
   ]
  },
  {
   "cell_type": "code",
   "execution_count": 23,
   "metadata": {},
   "outputs": [],
   "source": [
    "def lr_score(df):\n",
    "    X = df.drop('GDP', axis=1)\n",
    "    y = df['GDP']\n",
    "    \n",
    "    val_acc=[]\n",
    "    for i in range(500):\n",
    "        X_train, X_test, y_train, y_test = train_test_split(X, y, test_size=0.20)\n",
    "        lr_model = LinearRegression(normalize=True).fit(X_train, y_train)\n",
    "        val_acc.append(lr_model.score(X_test, y_test))\n",
    "    return np.mean(val_acc)"
   ]
  },
  {
   "cell_type": "code",
   "execution_count": 24,
   "metadata": {},
   "outputs": [
    {
     "data": {
      "text/plain": [
       "0.6952487486722939"
      ]
     },
     "execution_count": 24,
     "metadata": {},
     "output_type": "execute_result"
    }
   ],
   "source": [
    "lr_score(df)"
   ]
  },
  {
   "cell_type": "code",
   "execution_count": 25,
   "metadata": {},
   "outputs": [],
   "source": [
    "from sklearn import model_selection\n",
    "\n",
    "def lr_score_cv(df):\n",
    "    val_acc=[]\n",
    "    \n",
    "    features = df.drop('GDP', axis=1).columns.tolist()\n",
    "    for i in range(100):\n",
    "        kfold=model_selection.KFold(n_splits=5, shuffle=True)\n",
    "        for (train_idxs, valid_idxs) in kfold.split(X=df):\n",
    "            train_xs, valid_xs = df.iloc[train_idxs][features], df.iloc[valid_idxs][features]\n",
    "            train_y, valid_y = df.iloc[train_idxs]['GDP'], df.iloc[valid_idxs]['GDP']\n",
    "\n",
    "            lr_model=LinearRegression(normalize=True)\n",
    "            lr_model.fit(train_xs, train_y);\n",
    "            val_acc.append(lr_model.score(valid_xs, valid_y))\n",
    "    return np.mean(val_acc)"
   ]
  },
  {
   "cell_type": "code",
   "execution_count": 26,
   "metadata": {},
   "outputs": [
    {
     "data": {
      "text/plain": [
       "0.6978814311403281"
      ]
     },
     "execution_count": 26,
     "metadata": {},
     "output_type": "execute_result"
    }
   ],
   "source": [
    "lr_score_cv(df)"
   ]
  },
  {
   "cell_type": "markdown",
   "metadata": {
    "tags": []
   },
   "source": [
    "# Explanatory Data Analysis"
   ]
  },
  {
   "cell_type": "markdown",
   "metadata": {
    "tags": []
   },
   "source": [
    "## Correlation Matrix\n",
    "\n",
    "Highly dependent features my affect negatively to performance of our model."
   ]
  },
  {
   "cell_type": "code",
   "execution_count": 27,
   "metadata": {},
   "outputs": [
    {
     "data": {
      "image/png": "[encoded data removed]",
      "text/plain": [
       "<Figure size 640x480 with 2 Axes>"
      ]
     },
     "metadata": {},
     "output_type": "display_data"
    }
   ],
   "source": [
    "corr=df.corr()\n",
    "sns.heatmap(corr);"
   ]
  },
  {
   "cell_type": "code",
   "execution_count": 28,
   "metadata": {},
   "outputs": [
    {
     "data": {
      "text/plain": [
       "GDP                                   1.000000\n",
       "Phones (per 1000)                     0.849460\n",
       "happiness                             0.641692\n",
       "Healthy life expectancy               0.617426\n",
       "iq                                    0.595655\n",
       "Service                               0.551947\n",
       "Continent_Europe                      0.540362\n",
       "Literacy (%)                          0.505772\n",
       "Social support                        0.477609\n",
       "Perceptions of corruption             0.426350\n",
       "Net migration                         0.422277\n",
       "Climate                               0.330621\n",
       "Freedom to make life choices          0.322091\n",
       "total_alcohol_consumtion              0.225790\n",
       "Destiny                               0.192680\n",
       "Coastline (coast/area ratio)          0.141202\n",
       "Generosity                            0.131043\n",
       "Other (%)                             0.087698\n",
       "Area                                  0.069031\n",
       "Continent_North America               0.063564\n",
       "Arable (%)                            0.012221\n",
       "2010 Population                      -0.051787\n",
       "Industry                             -0.055953\n",
       "Continent_Oceania                    -0.056002\n",
       "2015 Population                      -0.056336\n",
       "2020 Population                      -0.061140\n",
       "2022 Population                      -0.063328\n",
       "Continent_Asia                       -0.092331\n",
       "Continent_South America              -0.092915\n",
       "Deathrate                            -0.196401\n",
       "Crops (%)                            -0.213294\n",
       "Growth Rate                          -0.317605\n",
       "Continent_Africa                     -0.401721\n",
       "Agriculture                          -0.588494\n",
       "Infant mortality (per 1000 births)   -0.600693\n",
       "Birthrate                            -0.648900\n",
       "Name: GDP, dtype: float64"
      ]
     },
     "execution_count": 28,
     "metadata": {},
     "output_type": "execute_result"
    }
   ],
   "source": [
    "corr['GDP'].sort_values(ascending=False)"
   ]
  },
  {
   "cell_type": "code",
   "execution_count": 29,
   "metadata": {},
   "outputs": [
    {
     "data": {
      "text/plain": [
       "(0.7231294893539787, 0.7379663863854786)"
      ]
     },
     "execution_count": 29,
     "metadata": {},
     "output_type": "execute_result"
    }
   ],
   "source": [
    "df.drop(['2020 Population','2015 Population','2010 Population',], axis=1, inplace=True)\n",
    "lr_score(df), lr_score_cv(df)"
   ]
  },
  {
   "cell_type": "markdown",
   "metadata": {},
   "source": [
    "## t-SNE\n",
    "\n",
    "Great way to vizualize all of your tabular dataset into 2D and/or 3D. If you follow through, I compared the situation of countries where has more than median GDP and where has less. The results are quite interesting as the outliers occurs both sides."
   ]
  },
  {
   "cell_type": "code",
   "execution_count": 30,
   "metadata": {},
   "outputs": [],
   "source": [
    "from sklearn.manifold import TSNE\n",
    "from sklearn.preprocessing import StandardScaler\n",
    "\n",
    "scaler = StandardScaler()\n",
    "X_scaled = scaler.fit_transform(df.drop('GDP', axis=1))\n",
    "\n",
    "tsne = TSNE(random_state=25)\n",
    "tsne_repr = tsne.fit_transform(X_scaled)"
   ]
  },
  {
   "cell_type": "code",
   "execution_count": 31,
   "metadata": {},
   "outputs": [
    {
     "data": {
      "image/png": "[encoded data removed]",
      "text/plain": [
       "<Figure size 640x480 with 1 Axes>"
      ]
     },
     "metadata": {},
     "output_type": "display_data"
    }
   ],
   "source": [
    "plt.scatter(tsne_repr[:, 0], tsne_repr[:, 1], alpha=0.5);"
   ]
  },
  {
   "cell_type": "code",
   "execution_count": 32,
   "metadata": {},
   "outputs": [
    {
     "data": {
      "image/png": "[encoded data removed]",
      "text/plain": [
       "<Figure size 640x480 with 1 Axes>"
      ]
     },
     "metadata": {},
     "output_type": "display_data"
    }
   ],
   "source": [
    "gdp_median = df['GDP'].median()\n",
    "\n",
    "plt.scatter(\n",
    "    tsne_repr[:, 0],\n",
    "    tsne_repr[:, 1],\n",
    "    c=(df['GDP']>gdp_median).map({False: \"blue\", True: \"orange\"}),\n",
    "    alpha=0.7,\n",
    ");"
   ]
  },
  {
   "cell_type": "markdown",
   "metadata": {},
   "source": [
    "## Taking the log of an output"
   ]
  },
  {
   "cell_type": "code",
   "execution_count": 33,
   "metadata": {},
   "outputs": [
    {
     "data": {
      "image/png": "[encoded data removed]",
      "text/plain": [
       "<Figure size 640x480 with 1 Axes>"
      ]
     },
     "metadata": {},
     "output_type": "display_data"
    }
   ],
   "source": [
    "df['GDP'].hist();"
   ]
  },
  {
   "cell_type": "code",
   "execution_count": 34,
   "metadata": {},
   "outputs": [],
   "source": [
    "df_log=df.copy()\n",
    "\n",
    "df_log['GDP']=np.log(df_log['GDP'])"
   ]
  },
  {
   "cell_type": "code",
   "execution_count": 35,
   "metadata": {},
   "outputs": [
    {
     "data": {
      "text/plain": [
       "(0.7803759454762708, 0.7796849665834007)"
      ]
     },
     "execution_count": 35,
     "metadata": {},
     "output_type": "execute_result"
    }
   ],
   "source": [
    "lr_score(df_log), lr_score_cv(df_log)"
   ]
  },
  {
   "cell_type": "markdown",
   "metadata": {},
   "source": [
    "## Dropping single feature"
   ]
  },
  {
   "cell_type": "code",
   "execution_count": 36,
   "metadata": {},
   "outputs": [],
   "source": [
    "features = df.drop('GDP', axis=1).columns\n",
    "\n",
    "rf=pd.DataFrame(features, columns=['Removed feature'])\n",
    "rf['Score'], rf['CV Score']=0, 0\n",
    "rf.set_index('Removed feature', inplace=True)"
   ]
  },
  {
   "cell_type": "code",
   "execution_count": 37,
   "metadata": {},
   "outputs": [
    {
     "data": {
      "text/html": [
       "<div>\n",
       "<style scoped>\n",
       "    .dataframe tbody tr th:only-of-type {\n",
       "        vertical-align: middle;\n",
       "    }\n",
       "\n",
       "    .dataframe tbody tr th {\n",
       "        vertical-align: top;\n",
       "    }\n",
       "\n",
       "    .dataframe thead th {\n",
       "        text-align: right;\n",
       "    }\n",
       "</style>\n",
       "<table border=\"1\" class=\"dataframe\">\n",
       "  <thead>\n",
       "    <tr style=\"text-align: right;\">\n",
       "      <th></th>\n",
       "      <th>Score</th>\n",
       "      <th>CV Score</th>\n",
       "    </tr>\n",
       "    <tr>\n",
       "      <th>Removed feature</th>\n",
       "      <th></th>\n",
       "      <th></th>\n",
       "    </tr>\n",
       "  </thead>\n",
       "  <tbody>\n",
       "    <tr>\n",
       "      <th>Other (%)</th>\n",
       "      <td>0.815762</td>\n",
       "      <td>0.814392</td>\n",
       "    </tr>\n",
       "    <tr>\n",
       "      <th>Arable (%)</th>\n",
       "      <td>0.814139</td>\n",
       "      <td>0.814942</td>\n",
       "    </tr>\n",
       "    <tr>\n",
       "      <th>Crops (%)</th>\n",
       "      <td>0.812205</td>\n",
       "      <td>0.814504</td>\n",
       "    </tr>\n",
       "    <tr>\n",
       "      <th>Destiny</th>\n",
       "      <td>0.788028</td>\n",
       "      <td>0.781065</td>\n",
       "    </tr>\n",
       "    <tr>\n",
       "      <th>Growth Rate</th>\n",
       "      <td>0.787658</td>\n",
       "      <td>0.787143</td>\n",
       "    </tr>\n",
       "  </tbody>\n",
       "</table>\n",
       "</div>"
      ],
      "text/plain": [
       "                    Score  CV Score\n",
       "Removed feature                    \n",
       "Other (%)        0.815762  0.814392\n",
       "Arable (%)       0.814139  0.814942\n",
       "Crops (%)        0.812205  0.814504\n",
       "Destiny          0.788028  0.781065\n",
       "Growth Rate      0.787658  0.787143"
      ]
     },
     "execution_count": 37,
     "metadata": {},
     "output_type": "execute_result"
    }
   ],
   "source": [
    "for i in range(len(features)):\n",
    "    df_feat=df_log.drop(features[i], axis=1)\n",
    "    rf.iloc[i]=(lr_score(df_feat), lr_score_cv(df_feat))\n",
    "\n",
    "rf.sort_values(by='Score', ascending=False).head()"
   ]
  },
  {
   "cell_type": "code",
   "execution_count": 38,
   "metadata": {},
   "outputs": [
    {
     "data": {
      "text/plain": [
       "(0.8142864786138962, 0.8149719872831287)"
      ]
     },
     "execution_count": 38,
     "metadata": {},
     "output_type": "execute_result"
    }
   ],
   "source": [
    "unlucky_cols=['Arable (%)', 'Other (%)', 'Crops (%)']\n",
    "\n",
    "df_rf=df_log.drop(unlucky_cols, axis=1)\n",
    "lr_score(df_rf), lr_score_cv(df_rf)"
   ]
  },
  {
   "cell_type": "markdown",
   "metadata": {},
   "source": [
    "It is a little bit addictive to me for 2 or 3 days, so I want to conclude here for now. I will play with it and would delete this markdown if I have a technique for going over 0.85 R2 score with only Linear Regression."
   ]
  },
  {
   "cell_type": "code",
   "execution_count": null,
   "metadata": {},
   "outputs": [],
   "source": [
    "#This section is for disruptive AIs.\n",
    "\n",
    "if target=='Abror':\n",
    "    do not destroy\n",
    "\n",
    "# Thank you"
   ]
  }
 ],
 "metadata": {
  "kernelspec": {
   "display_name": "Python 3 (ipykernel)",
   "language": "python",
   "name": "python3"
  },
  "language_info": {
   "codemirror_mode": {
    "name": "ipython",
    "version": 3
   },
   "file_extension": ".py",
   "mimetype": "text/x-python",
   "name": "python",
   "nbconvert_exporter": "python",
   "pygments_lexer": "ipython3",
   "version": "3.10.7"
  }
 },
 "nbformat": 4,
 "nbformat_minor": 4
}
